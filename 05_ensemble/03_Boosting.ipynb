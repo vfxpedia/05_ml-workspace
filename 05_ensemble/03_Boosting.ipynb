{
 "cells": [
  {
   "cell_type": "markdown",
   "id": "7e28601c",
   "metadata": {},
   "source": [
    "# 앙상블 (Ensemble) : Boosting\n",
    "\n",
    "- 다양한 모델을 결합하여 예측 성능을 향상시키는 방법\n",
    "    - 깊이가 얕은 결정트리를 사용해 이전 트리의 오차를 보정하는 방식\n",
    "    - 순차적으로 경사하강법을 사용해 이전 트리의 오차를 줄여나감\n",
    "        - 분류모델에서는 손실함수 Logloss를 사용해 오차를 줄임\n",
    "        - 회귀모델에서는 손실함수 MSE를 사용해 오차를 줄임\n",
    "    - Boosting 계열은 일반적으로 결정트리 개수를 늘려도 과적합에 강함\n",
    "    - 대표적인 알고리즘(모델): GradientBoosting, HistGradientBoosting, XGBoost(DMLC), LightGBM(MS), CatBoost"
   ]
  },
  {
   "cell_type": "markdown",
   "id": "670582c0",
   "metadata": {},
   "source": [
    "### GradientBoosting"
   ]
  },
  {
   "cell_type": "code",
   "execution_count": null,
   "id": "98d6d5ff",
   "metadata": {},
   "outputs": [],
   "source": [
    "import numpy as np\n",
    "import pandas as pd\n",
    "import matplotlib.pyplot as plt\n",
    "import seaborn as sns"
   ]
  },
  {
   "cell_type": "code",
   "execution_count": 2,
   "id": "43ec6538",
   "metadata": {},
   "outputs": [],
   "source": [
    "from sklearn.tree import DecisionTreeRegressor    # 결정트리 사용"
   ]
  },
  {
   "cell_type": "code",
   "execution_count": null,
   "id": "87ae599e",
   "metadata": {},
   "outputs": [],
   "source": [
    "class SimpleGradientBoostingClassifier:\n",
    "                       # 초기 파라미터 설정 값들을 전달할 예정.\n",
    "    def __init__(self, n_estimators=100, learning_rate=0.2, max_depth=3):    # 초기화 함수, 생성자 : 객체 생성시 초기화 함수 호출\n",
    "        self.n_estimators = n_estimators\n",
    "        self.learning_rate = learning_rate\n",
    "        self.max_depth = max_depth\n",
    "        self.initial_log_odds = 0\n",
    "        self.trees = []\n",
    "    \n",
    "    def log_odds():\n",
    "        pass\n",
    "\n",
    "    def sigmoid():     # 시그모이드 함수 : 0~1 사이의 값을 반환, 확률값으로 변환\n",
    "        pass\n",
    "\n",
    "    def fit():\n",
    "        pass\n",
    "\n",
    "    def predict():\n",
    "        pass\n",
    "\n",
    "    def predict_proba():\n",
    "        pass"
   ]
  },
  {
   "cell_type": "code",
   "execution_count": null,
   "id": "d9d680dd",
   "metadata": {},
   "outputs": [],
   "source": []
  }
 ],
 "metadata": {
  "kernelspec": {
   "display_name": "ml_env",
   "language": "python",
   "name": "python3"
  },
  "language_info": {
   "codemirror_mode": {
    "name": "ipython",
    "version": 3
   },
   "file_extension": ".py",
   "mimetype": "text/x-python",
   "name": "python",
   "nbconvert_exporter": "python",
   "pygments_lexer": "ipython3",
   "version": "3.12.11"
  }
 },
 "nbformat": 4,
 "nbformat_minor": 5
}
