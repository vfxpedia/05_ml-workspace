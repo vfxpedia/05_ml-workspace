{
 "cells": [
  {
   "cell_type": "markdown",
   "id": "7516caa2",
   "metadata": {},
   "source": [
    "# 차원 축소"
   ]
  },
  {
   "cell_type": "markdown",
   "id": "cd79bb05",
   "metadata": {},
   "source": [
    "![PCA-LDA](https://d.pr/i/hI0WaD+)"
   ]
  },
  {
   "cell_type": "markdown",
   "id": "821de5ef",
   "metadata": {},
   "source": []
  }
 ],
 "metadata": {
  "kernelspec": {
   "display_name": "ml_env",
   "language": "python",
   "name": "python3"
  },
  "language_info": {
   "name": "python",
   "version": "3.12.11"
  }
 },
 "nbformat": 4,
 "nbformat_minor": 5
}
