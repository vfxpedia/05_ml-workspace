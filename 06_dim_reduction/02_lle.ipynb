{
 "cells": [
  {
   "cell_type": "markdown",
   "id": "b36f5841",
   "metadata": {},
   "source": [
    "# LLE (Locally Linear Embedding)\n",
    "- 데이터 포인트를 근접한이웃과 선형 결합으로 표현하고 이를 유지하도록 저차원 공간에 매핑"
   ]
  },
  {
   "cell_type": "markdown",
   "id": "a72952c0",
   "metadata": {},
   "source": []
  },
  {
   "cell_type": "code",
   "execution_count": 1,
   "id": "8ca6cd19",
   "metadata": {},
   "outputs": [],
   "source": [
    "import numpy as np\n",
    "import pandas as pd\n",
    "import matplotlib.pyplot as plt\n",
    "import seaborn as sns\n",
    "\n",
    "import matplotlib\n",
    "import matplotlib.font_manager as fm\n",
    "\n",
    "font_path = 'C:\\\\Windows\\\\Fonts\\\\gulim.ttc'\n",
    "font = fm.FontProperties(fname=font_path).get_name() # 한글 폰트 이름 가져오기\n",
    "matplotlib.rc('font', family=font) # 한글 폰트 사용 설정\n",
    "plt.rcParams['axes.unicode_minus'] = False # 마이너스 폰트 사용 설정"
   ]
  },
  {
   "cell_type": "code",
   "execution_count": 9,
   "id": "04d1832a",
   "metadata": {},
   "outputs": [],
   "source": [
    "from sklearn.datasets import load_iris\n",
    "from sklearn.manifold import LocallyLinearEmbedding\n",
    "\n",
    "# LocallyLinearEmbedding은 데이터의 구조를 저차원 공간에 잘 보존하면서 차원을 줄여주는 기법(LLE, Locally Linear Embedding)을 사용할 수 있게 해주는 사이킷런(sklearn)의 모듈입니다.\n",
    "# 쉽게 말해, 복잡한 데이터를 2차원이나 3차원처럼 더 단순하게 만들어서 시각화하거나 분석하기 쉽게 도와줍니다.\n",
    "\n",
    "iris_data = load_iris()\n",
    "\n",
    "# 국소 선형 임베딩(LLE)은 데이터의 구조를 저차원 공간에 잘 보존하면서 차원을 줄여주는 기법입니다.\n",
    "# 이 기법은 각 데이터 포인트를 근접한 이웃들과의 선형 결합으로 표현하고, 이를 유지하도록 저차원 공간에 매핑합니다.\n",
    "# 이 기법은 데이터의 구조를 잘 보존하면서 차원을 줄이는 데 효과적입니다.\n",
    "\n",
    "# n_components : 차원 축소 후 차원 수, n_neighbors : 이웃 데이터 수\n",
    "lle = LocallyLinearEmbedding(n_components=2, n_neighbors=10)\n",
    "iris_lle = lle.fit_transform(iris_data.data)\n",
    "# iris_lle.shape (150, 2)\n",
    "\n",
    "iris_lle_df = pd.DataFrame(iris_lle, columns=['lle_col1', 'lle_col2'])\n",
    "iris_lle_df['target'] = iris_data.target"
   ]
  },
  {
   "cell_type": "code",
   "execution_count": 10,
   "id": "e26f0d9b",
   "metadata": {},
   "outputs": [
    {
     "data": {
      "image/png": "[encoded data removed]",
      "text/plain": [
       "<Figure size 640x480 with 1 Axes>"
      ]
     },
     "metadata": {},
     "output_type": "display_data"
    }
   ],
   "source": [
    "# 축소한 차원으로 시각화\n",
    "markers = ['^', 's', 'o']\n",
    "\n",
    "for i, marker in enumerate(markers):\n",
    "    X = iris_lle_df[iris_lle_df['target'] == i]['lle_col1']\n",
    "    y = iris_lle_df[iris_lle_df['target'] == i]['lle_col2']\n",
    "    plt.scatter(X, y, marker=marker, label=iris_data.target_names[i])\n",
    "\n",
    "plt.legend()\n",
    "plt.xlabel('lle_col1')\n",
    "plt.ylabel('lle_col2')\n",
    "plt.show()"
   ]
  },
  {
   "cell_type": "code",
   "execution_count": 20,
   "id": "f50f5ce1",
   "metadata": {},
   "outputs": [
    {
     "data": {
      "text/plain": [
       "{'fit_time': array([0.01047587, 0.00525379, 0.00420403]),\n",
       " 'score_time': array([0.00199962, 0.00099945, 0.00099778]),\n",
       " 'test_score': array([0.94, 0.9 , 0.9 ])}"
      ]
     },
     "execution_count": 20,
     "metadata": {},
     "output_type": "execute_result"
    }
   ],
   "source": [
    "from sklearn.model_selection import cross_validate\n",
    "from sklearn.linear_model import LogisticRegression\n",
    "\n",
    "# LinearRegression에는 max_iter 파라미터가 없습니다. max_iter는 LogisticRegression 등에서 사용됩니다.\n",
    "lr_clf = LogisticRegression(max_iter=1000)\n",
    "result = cross_validate(lr_clf, iris_lle_df[['lle_col1', 'lle_col2']], iris_lle_df['target'], cv=3)\n",
    "result\n"
   ]
  },
  {
   "cell_type": "code",
   "execution_count": 21,
   "id": "60f839e0",
   "metadata": {},
   "outputs": [
    {
     "name": "stdout",
     "output_type": "stream",
     "text": [
      "10\n",
      "2\n",
      "5.1168977786832e-07\n"
     ]
    }
   ],
   "source": [
    "print(lle.n_neighbors)\n",
    "print(lle.n_components)\n",
    "print(lle.reconstruction_error_) # 재구성 오차, 차원 축소 후 차원 복원 오차"
   ]
  }
 ],
 "metadata": {
  "kernelspec": {
   "display_name": "ml_env",
   "language": "python",
   "name": "python3"
  },
  "language_info": {
   "codemirror_mode": {
    "name": "ipython",
    "version": 3
   },
   "file_extension": ".py",
   "mimetype": "text/x-python",
   "name": "python",
   "nbconvert_exporter": "python",
   "pygments_lexer": "ipython3",
   "version": "3.12.11"
  }
 },
 "nbformat": 4,
 "nbformat_minor": 5
}
