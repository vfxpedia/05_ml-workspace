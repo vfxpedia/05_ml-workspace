{
 "cells": [
  {
   "cell_type": "markdown",
   "id": "9a325e74",
   "metadata": {},
   "source": [
    "# silhouette Score : 군집 평가\n",
    "- 실루엣 계수를 통해 군집화의 품질을 평가할 수 있다.\n",
    "- 실루엣 게수는 -1에서 1 사이의 값을 가짐\n",
    "    - 1에 가까울수록 군집화가 잘됨 (다른 군집과 잘 분리되어 있음)\n",
    "    - 0은 군집의 경계에 위치함\n",
    "    - -1은 다른 군집과 겹치거나 잘못 분류된 경우\n",
    "\n",
    "**주요 함수**\n",
    "- silhouette_samples: 개별 데이터의 점수\n",
    "- silhouette_score: 전체 데이터포인트의 평균값\n"
   ]
  },
  {
   "cell_type": "code",
   "execution_count": null,
   "id": "51839bd8",
   "metadata": {},
   "outputs": [],
   "source": [
    "import numpy as np\n",
    "import pandas as pd\n",
    "import matplotlib.pyplot as plt\n",
    "import seaborn as sns\n",
    "\n",
    "import matplotlib\n",
    "import matplotlib.font_manager as fm\n",
    "\n",
    "font_path = 'C:\\\\Windows\\\\Fonts\\\\gulim.ttc'\n",
    "font = fm.FontProperties(fname=font_path).get_name() # 한글 폰트 이름 가져오기\n",
    "matplotlib.rc('font', family=font) # 한글 폰트 사용 설정\n",
    "plt.rcParams['axes.unicode_minus'] = False # 마이너스 폰트 사용 설정"
   ]
  },
  {
   "cell_type": "code",
   "execution_count": 4,
   "id": "5c70a68e",
   "metadata": {},
   "outputs": [],
   "source": [
    "# 데이터로드\n",
    "from sklearn.datasets import load_iris\n",
    "\n",
    "iris_data = load_iris()\n",
    "iris_df = pd.DataFrame(iris_data.data, columns=iris_data.feature_names)\n",
    "iris_df['species'] = iris_data.target"
   ]
  },
  {
   "cell_type": "code",
   "execution_count": 7,
   "id": "7af2db65",
   "metadata": {},
   "outputs": [
    {
     "data": {
      "text/html": [
       "<div>\n",
       "<style scoped>\n",
       "    .dataframe tbody tr th:only-of-type {\n",
       "        vertical-align: middle;\n",
       "    }\n",
       "\n",
       "    .dataframe tbody tr th {\n",
       "        vertical-align: top;\n",
       "    }\n",
       "\n",
       "    .dataframe thead th {\n",
       "        text-align: right;\n",
       "    }\n",
       "</style>\n",
       "<table border=\"1\" class=\"dataframe\">\n",
       "  <thead>\n",
       "    <tr style=\"text-align: right;\">\n",
       "      <th></th>\n",
       "      <th>sepal length (cm)</th>\n",
       "      <th>sepal width (cm)</th>\n",
       "      <th>petal length (cm)</th>\n",
       "      <th>petal width (cm)</th>\n",
       "      <th>species</th>\n",
       "      <th>cluster</th>\n",
       "    </tr>\n",
       "  </thead>\n",
       "  <tbody>\n",
       "    <tr>\n",
       "      <th>0</th>\n",
       "      <td>5.1</td>\n",
       "      <td>3.5</td>\n",
       "      <td>1.4</td>\n",
       "      <td>0.2</td>\n",
       "      <td>0</td>\n",
       "      <td>1</td>\n",
       "    </tr>\n",
       "    <tr>\n",
       "      <th>1</th>\n",
       "      <td>4.9</td>\n",
       "      <td>3.0</td>\n",
       "      <td>1.4</td>\n",
       "      <td>0.2</td>\n",
       "      <td>0</td>\n",
       "      <td>1</td>\n",
       "    </tr>\n",
       "    <tr>\n",
       "      <th>2</th>\n",
       "      <td>4.7</td>\n",
       "      <td>3.2</td>\n",
       "      <td>1.3</td>\n",
       "      <td>0.2</td>\n",
       "      <td>0</td>\n",
       "      <td>1</td>\n",
       "    </tr>\n",
       "    <tr>\n",
       "      <th>3</th>\n",
       "      <td>4.6</td>\n",
       "      <td>3.1</td>\n",
       "      <td>1.5</td>\n",
       "      <td>0.2</td>\n",
       "      <td>0</td>\n",
       "      <td>1</td>\n",
       "    </tr>\n",
       "    <tr>\n",
       "      <th>4</th>\n",
       "      <td>5.0</td>\n",
       "      <td>3.6</td>\n",
       "      <td>1.4</td>\n",
       "      <td>0.2</td>\n",
       "      <td>0</td>\n",
       "      <td>1</td>\n",
       "    </tr>\n",
       "  </tbody>\n",
       "</table>\n",
       "</div>"
      ],
      "text/plain": [
       "   sepal length (cm)  sepal width (cm)  ...  species  cluster\n",
       "0                5.1               3.5  ...        0        1\n",
       "1                4.9               3.0  ...        0        1\n",
       "2                4.7               3.2  ...        0        1\n",
       "3                4.6               3.1  ...        0        1\n",
       "4                5.0               3.6  ...        0        1\n",
       "\n",
       "[5 rows x 6 columns]"
      ]
     },
     "execution_count": 7,
     "metadata": {},
     "output_type": "execute_result"
    }
   ],
   "source": [
    "# Kmeans 군집화\n",
    "from sklearn.cluster import KMeans\n",
    "\n",
    "kmeans = KMeans(n_clusters=3, init='k-means++', max_iter=300,random_state=0)\n",
    "kmeans.fit(iris_data.data) # X데이터 클러스터링 = 군집화\n",
    "iris_df['cluster'] = kmeans.labels_\n",
    "iris_df.head()"
   ]
  },
  {
   "cell_type": "code",
   "execution_count": 11,
   "id": "e4482857",
   "metadata": {},
   "outputs": [
    {
     "data": {
      "text/plain": [
       "(150,)"
      ]
     },
     "execution_count": 11,
     "metadata": {},
     "output_type": "execute_result"
    }
   ],
   "source": [
    "from sklearn.metrics import silhouette_samples, silhouette_score # 실루엣 계수 계산 → 군집화 평가하는 모델이기 때문에 metrics 에 있는 함수를 사용한다.\n",
    "\n",
    "# sil_samples = silhouette_samples(iris_data.data, iris_df['cluster'])\n",
    "sil_samples = silhouette_samples(iris_data.data, kmeans.labels_)\n",
    "sil_samples.shape # sil_samples (150,) → 150개의 데이터에 대한 실루엣 계수"
   ]
  },
  {
   "cell_type": "code",
   "execution_count": 14,
   "id": "531c2c05",
   "metadata": {},
   "outputs": [
    {
     "data": {
      "text/plain": [
       "array([ 0.85258191,  0.8149163 ,  0.82879659,  0.80435199,  0.84891774,\n",
       "        0.7477614 ,  0.82109757,  0.8534934 ,  0.75127806,  0.82475199,\n",
       "        0.80269525,  0.83540396,  0.80996716,  0.74535637,  0.70224038,\n",
       "        0.64338856,  0.77526857,  0.85063272,  0.70636742,  0.81987458,\n",
       "        0.78364122,  0.82546665,  0.79244412,  0.79345251,  0.77426479,\n",
       "        0.79799564,  0.83296108,  0.84162136,  0.84325046,  0.81723402,\n",
       "        0.8145665 ,  0.79849826,  0.76227879,  0.72184605,  0.82822866,\n",
       "        0.83179477,  0.79374024,  0.84148042,  0.76779363,  0.84992603,\n",
       "        0.84902387,  0.63767419,  0.78589195,  0.79963167,  0.74629437,\n",
       "        0.80915172,  0.81295565,  0.81844011,  0.81783314,  0.85168255,\n",
       "       -0.02672203,  0.36827154,  0.08489767,  0.59610609,  0.35669884,\n",
       "        0.59416206,  0.27019063,  0.27245453,  0.32755642,  0.58167084,\n",
       "        0.38107057,  0.58665651,  0.55085685,  0.47851679,  0.56757079,\n",
       "        0.30479553,  0.5596951 ,  0.61137194,  0.46029717,  0.61379722,\n",
       "        0.32789488,  0.58776704,  0.30600028,  0.49067062,  0.49172115,\n",
       "        0.3699518 ,  0.10228902,  0.13663605,  0.55169511,  0.51160226,\n",
       "        0.59709372,  0.56598886,  0.62074212,  0.26171777,  0.54388732,\n",
       "        0.41097377,  0.14023247,  0.48624022,  0.60876025,  0.61753462,\n",
       "        0.59880802,  0.49937322,  0.62586683,  0.30060697,  0.63037188,\n",
       "        0.60742355,  0.62366862,  0.55341424,  0.14859107,  0.63254678,\n",
       "        0.49054423,  0.2374282 ,  0.60678041,  0.35627269,  0.54948931,\n",
       "        0.53876872,  0.47192036,  0.55472382,  0.43660336,  0.55652443,\n",
       "        0.26625899,  0.22859055,  0.55205776,  0.29079076,  0.03419264,\n",
       "        0.39464348,  0.41984494,  0.49142055,  0.47818629,  0.33026823,\n",
       "        0.60151742,  0.33856456,  0.50780938,  0.19845954,  0.5752626 ,\n",
       "        0.57549154,  0.30554446,  0.24951212,  0.44720331,  0.5170658 ,\n",
       "        0.55652412,  0.48296828,  0.45484103,  0.13179437,  0.05116649,\n",
       "        0.54825077,  0.44895922,  0.38727328,  0.35005863,  0.53421615,\n",
       "        0.56369649,  0.41354716,  0.2374282 ,  0.60592968,  0.56038091,\n",
       "        0.42456089,  0.10312482,  0.31680983,  0.34785545,  0.18742256])"
      ]
     },
     "execution_count": 14,
     "metadata": {},
     "output_type": "execute_result"
    }
   ],
   "source": [
    "sil_samples"
   ]
  },
  {
   "cell_type": "code",
   "execution_count": 15,
   "id": "2aca2163",
   "metadata": {},
   "outputs": [
    {
     "data": {
      "text/plain": [
       "np.float64(0.551191604619592)"
      ]
     },
     "execution_count": 15,
     "metadata": {},
     "output_type": "execute_result"
    }
   ],
   "source": [
    "sil_samples.mean()"
   ]
  },
  {
   "cell_type": "code",
   "execution_count": null,
   "id": "656a2608",
   "metadata": {},
   "outputs": [
    {
     "data": {
      "text/plain": [
       "0.551191604619592"
      ]
     },
     "execution_count": 12,
     "metadata": {},
     "output_type": "execute_result"
    }
   ],
   "source": [
    "# 전체 클러스터의 실루엣 계수 = 개별 데이터 포인트의 실루엣 계수 평균균\n",
    "sil_score = silhouette_score(iris_data.data, kmeans.labels_)\n",
    "sil_score # sil_score = sil_samples.mean()"
   ]
  },
  {
   "cell_type": "code",
   "execution_count": 16,
   "id": "ff70eec9",
   "metadata": {},
   "outputs": [
    {
     "data": {
      "image/png": "[encoded data removed]",
      "text/plain": [
       "<Figure size 1600x400 with 4 Axes>"
      ]
     },
     "metadata": {},
     "output_type": "display_data"
    }
   ],
   "source": [
    "# k값(클러스터 개수)별 실루엣 계수 시각화\n",
    "def visualize_silhouette(n_clusters, X):\n",
    "    \"\"\"\n",
    "    :param n_clusters: [2, 3, 4, 5] 테스트할 k값 목록 \n",
    "    :param X: 입력데이터\n",
    "    :return: \n",
    "    \"\"\"\n",
    "    import matplotlib.cm as cm\n",
    "    \n",
    "    # k개수\n",
    "    n_cols = len(n_clusters)\n",
    "    # subplot 생성\n",
    "    fig, axs = plt.subplots(1, n_cols, figsize=(4 * n_cols, 4))\n",
    "    \n",
    "    for index, k in enumerate(n_clusters):\n",
    "        # 군집 \n",
    "        kmeans = KMeans(n_clusters=k, random_state=0)\n",
    "        labels = kmeans.fit_predict(X) # 중심점 계산 및 클러스터 결과 반환\n",
    "        # 실루엣 계수\n",
    "        sil_samples = silhouette_samples(X, labels)\n",
    "        sil_score = silhouette_score(X, labels)\n",
    "        \n",
    "        # y축 범위\n",
    "        y_lower = 10\n",
    "        \n",
    "        # plot 그리기\n",
    "        for i in range(k): # range(2) = 0, 1  range(3) = 0, 1, 2\n",
    "            ith_cluster_sil_samples = sil_samples[labels == i] # 이번 클러스터에 실루엣 계수 필터링\n",
    "            ith_cluster_sil_samples.sort() # inplace 연산\n",
    "            \n",
    "            # 크기(영역) 계산\n",
    "            ith_size = ith_cluster_sil_samples.shape[0]\n",
    "            y_upper = y_lower + ith_size\n",
    "            \n",
    "            # 색상 지정\n",
    "            color = cm.nipy_spectral(float(i) / k) # 클러스터 별 고유한 색상\n",
    "            # print(color) # (r, g, b, a)\n",
    "            axs[index].fill_betweenx(\n",
    "                np.arange(y_lower, y_upper),    # y축 범위\n",
    "                0,                              # x축1\n",
    "                ith_cluster_sil_samples,        # x축2\n",
    "                facecolor=color,                # 색상\n",
    "                edgecolor=color,                # 테두리 색상\n",
    "                alpha=0.7                       # 투명도\n",
    "            )\n",
    "            # 텍스트 추가\n",
    "            axs[index].text(-0.05, y_lower + 0.5 * ith_size, str(i))\n",
    "\n",
    "            y_lower = y_upper + 10 # 다음 차례의 아래경계 계산\n",
    "        \n",
    "        # 전체 실루엣 계수\n",
    "        axs[index].axvline(x=sil_score, color='red', linestyle='--')\n",
    "        \n",
    "        # x, y축 라벨\n",
    "        axs[index].set_xlabel('Silhouetter Coefficient')\n",
    "        axs[index].set_ylabel('Cluster')\n",
    "        \n",
    "        # axis별 제목\n",
    "        axs[index].set_title(f'K={k}')\n",
    "        \n",
    "        # x, y tick조정\n",
    "        axs[index].set_xticks([0, 0.2, 0.4, 0.6, 0.8, 1])\n",
    "        axs[index].set_yticks([])\n",
    "\n",
    "visualize_silhouette([2, 3, 4, 5], iris_data.data)   "
   ]
  }
 ],
 "metadata": {
  "kernelspec": {
   "display_name": "ml_env",
   "language": "python",
   "name": "python3"
  },
  "language_info": {
   "codemirror_mode": {
    "name": "ipython",
    "version": 3
   },
   "file_extension": ".py",
   "mimetype": "text/x-python",
   "name": "python",
   "nbconvert_exporter": "python",
   "pygments_lexer": "ipython3",
   "version": "3.12.11"
  }
 },
 "nbformat": 4,
 "nbformat_minor": 5
}
