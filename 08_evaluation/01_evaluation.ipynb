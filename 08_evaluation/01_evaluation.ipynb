{
 "cells": [
  {
   "cell_type": "markdown",
   "id": "b3a620ef",
   "metadata": {},
   "source": [
    "# 평가"
   ]
  },
  {
   "cell_type": "markdown",
   "id": "17128364",
   "metadata": {},
   "source": [
    "### 분류모델 평가"
   ]
  },
  {
   "cell_type": "markdown",
   "id": "2bfc4918",
   "metadata": {},
   "source": [
    "### 정확도 (Accuracy)\n",
    "- 전체 샘플 중에서 올바르게 예측한 샘플의 비율\n",
    "- 데이터가 불균형한 경우 정확도는 비현실적인 성능을 낼 수 있음 (데이터 편향시)\n",
    "- 실제로 정확도만으로 이 모델이 정확한 모델인가를 평가할 수 없음"
   ]
  },
  {
   "cell_type": "code",
   "execution_count": 59,
   "id": "ca400e55",
   "metadata": {},
   "outputs": [],
   "source": [
    "# 잘못된 학습 모델 만들어보기\n",
    "from sklearn.base import BaseEstimator\n",
    "import numpy as np\n",
    "# BaseEstimator 클래스 상속 (fit, predict, score 메서드 구현...)\n",
    "\n",
    "class MyTitanicClassifier(BaseEstimator):\n",
    "    # 훈련 메서드\n",
    "    def fit(self, X, y):                 # X : 특성 데이터, y : 라벨 데이터 → 모델 훈련 시 필요한 데이터\n",
    "        pass                             # 컬럼 특성 X, y 그대로 저장 (잘못된 학습 모델 만들어보기)\n",
    "\n",
    "    # 결과 예측 메서드\n",
    "    def predict(self, X):\n",
    "        pred = np.zeros((X.shape[0], 1)) # 예측 결과를 우선 0(사망)으로 초기화\n",
    "        for i in range(X.shape[0]):      # X.shape[0] : 샘플 수\n",
    "            sex = X['Sex'].iloc[i]       # X의 0번째 행의 Sex 컬럼 값\n",
    "            if sex == 0:           # 여성\n",
    "                pred[i] = 1        # 생존으로 예측\n",
    "        return pred"
   ]
  },
  {
   "cell_type": "code",
   "execution_count": 60,
   "id": "32e6505d",
   "metadata": {},
   "outputs": [],
   "source": [
    "from sklearn.preprocessing import LabelEncoder, OneHotEncoder\n",
    "from sklearn.preprocessing import StandardScaler\n",
    "\n",
    "# 전처리 -> 함수로 만들기\n",
    "\n",
    "def fillna(df):\n",
    "    \"\"\"\n",
    "    결측치 처리 함수\n",
    "    - Age : 평균치로 대체\n",
    "    - Cabin : 'N' 기본값으로 대체\n",
    "    - Embarked : 'N' 기본값으로 대체\n",
    "    \"\"\"\n",
    "    df['Age'] = df['Age'].fillna(df['Age'].mean())\n",
    "    df['Cabin'] = df['Cabin'].fillna('N')\n",
    "    df['Embarked'] = df['Embarked'].fillna('N')\n",
    "    return df\n",
    "\n",
    "def drop_feature(df):\n",
    "    \"\"\"\n",
    "    모델 훈련과 관련 없는 속성 제거\n",
    "    - PassengerId, Name, Ticket\n",
    "    \"\"\"\n",
    "    return df.drop(['PassengerId', 'Name', 'Ticket'], axis=1)\n",
    "\n",
    "def encode_feature(df):\n",
    "    \"\"\"\n",
    "    범주형 데이터를 숫자로 인코딩\n",
    "    - Sex, Cabin, Embarked\n",
    "    \"\"\"\n",
    "    df['Cabin'] = df['Cabin'].str[:1]\n",
    "\n",
    "    categories = ['Sex', 'Cabin', 'Embarked']\n",
    "\n",
    "    for cate_item in categories:\n",
    "        label_encoder = LabelEncoder()\n",
    "        df[cate_item] = label_encoder.fit_transform(df[cate_item])\n",
    "    \n",
    "    return df\n",
    "\n",
    "\n",
    "def scaling_feature(train_data, test_data):\n",
    "    \"\"\"\n",
    "    특성 스케일링\n",
    "    \"\"\"\n",
    "    from sklearn.preprocessing import StandardScaler\n",
    "\n",
    "    scaler = StandardScaler()\n",
    "    train_scaled = scaler.fit_transform(train_data)\n",
    "    test_scaled = scaler.transform(test_data)\n",
    "\n",
    "    return train_scaled, test_scaled\n",
    "\n",
    "def preprocessing(df):\n",
    "    df = drop_feature(df)\n",
    "    df = fillna(df)\n",
    "    df = encode_feature(df)\n",
    "\n",
    "    return df"
   ]
  },
  {
   "cell_type": "code",
   "execution_count": 61,
   "id": "03eb634d",
   "metadata": {},
   "outputs": [],
   "source": [
    "import pandas as pd\n",
    "from sklearn.model_selection import train_test_split\n",
    "\n",
    "# 데이터 로드\n",
    "df = pd.read_csv('./data/titanic.csv')\n",
    "# df\n",
    "\n",
    "# 특성-라벨 데이터 분리\n",
    "X = df.drop('Survived', axis=1)\n",
    "y = df['Survived']\n",
    "\n",
    "# 전처리\n",
    "X = preprocessing(X)\n",
    "\n",
    "# 훈련-테스트 데이터 분리\n",
    "X_train, X_test, y_train, y_test = train_test_split(X, y, random_state=0)"
   ]
  },
  {
   "cell_type": "code",
   "execution_count": 62,
   "metadata": {},
   "outputs": [
    {
     "name": "stdout",
     "output_type": "stream",
     "text": [
      "훈련 데이터 정확도: 0.7889221556886228\n",
      "테스트 데이터 정확도: 0.7802690582959642\n"
     ]
    }
   ],
   "source": [
    "from sklearn.metrics import accuracy_score\n",
    "\n",
    "# 모델 훈련\n",
    "my_classifier = MyTitanicClassifier()\n",
    "my_classifier.fit(X_train, y_train)\n",
    "\n",
    "# 예측\n",
    "pred_train = my_classifier.predict(X_train)\n",
    "pred_test = my_classifier.predict(X_test)\n",
    "\n",
    "# 평가 (accuracy_score 사용)\n",
    "print(f\"훈련 데이터 정확도: {accuracy_score(y_train, pred_train)}\")\n",
    "print(f\"테스트 데이터 정확도: {accuracy_score(y_test, pred_test)}\")\n",
    "\n",
    "# 훈련 데이터 정확도: 0.7874251497005988\n",
    "# 테스트 데이터 정확도: 0.7847533632286996\n",
    "\n",
    "# 우리가 준 X 데이터는 fit 메서드에 전달되지 않음\n",
    "# 그냥 여자인 경우 생존했다고 예측하는 모델을 만들었다\n",
    "# 이렇게 잘못된 학습 모델을 만들었음에도 불구하고 훈련 데이터에 대한 정확도는 높게 나옴\n",
    "# 이렇게 정확도만으로 모델을 평가하면 안됨\n",
    "# 여기서 나온 정확도는 모델의 실제 성능을 왜곡할 수 있음 \n",
    "# 0.7874251497005988 생존자 중에 여자가 78% 정도 예측함\n",
    "\n",
    "# 모델의 실제 성능을 평가하기 위해서는 모델의 예측 성능을 평가해야 함\n",
    "# 예측 성능을 평가하기 위해서는 모델의 예측 결과와 실제 결과를 비교해야 함\n",
    "# 이렇게 모델의 예측 결과와 실제 결과를 비교하는 것을 평가라고 함\n"
   ]
  },
  {
   "cell_type": "markdown",
   "id": "255bf52d",
   "metadata": {},
   "source": [
    "# 혼동행렬 (Confusion Matrix)\n",
    "\n",
    "|               | 예측 값 부정 (Negative) | 예측 값 긍정 (Positive) |\n",
    "|---------------|------------------------|------------------------|\n",
    "| 실제 값 부정 (Negative) | True Negative (TN)         | False Positive (FP)        |\n",
    "| 실제 값 긍정 (Positive) | False Negative (FN)        | True Positive (TP)         |\n",
    "\n",
    "\n",
    "![](https://d.pr/i/rtYBJv+)\n",
    "\n",
    "Precision (정밀도)\n",
    "Recall (재현율)"
   ]
  },
  {
   "cell_type": "code",
   "execution_count": 55,
   "metadata": {},
   "outputs": [
    {
     "data": {
      "image/png": "[encoded data removed]",
      "text/plain": [
       "<Figure size 640x480 with 2 Axes>"
      ]
     },
     "metadata": {},
     "output_type": "display_data"
    }
   ],
   "source": [
    "from sklearn.datasets import load_digits\n",
    "from sklearn.ensemble import RandomForestClassifier\n",
    "from sklearn.metrics import confusion_matrix\n",
    "import matplotlib.pyplot as plt\n",
    "import seaborn as sns\n",
    "\n",
    "digits = load_digits()\n",
    "X_train, X_test, y_train, y_test = train_test_split(digits.data, digits.target, test_size=0.2, random_state=42)\n",
    "\n",
    "model = RandomForestClassifier(n_estimators=100, random_state=42)\n",
    "model.fit(X_train, y_train)\n",
    "\n",
    "y_pred = model.predict(X_test)\n",
    "\n",
    "cm = confusion_matrix(y_test, y_pred)\n",
    "\n",
    "sns.heatmap(cm, annot=True, fmt='d',\n",
    "             xticklabels=digits.target_names, yticklabels=digits.target_names)\n",
    "plt.xlabel('Predicted')\n",
    "plt.ylabel('Actual')\n",
    "plt.show()\n",
    "\n",
    "# 다중분류에서도 혼동행렬 사용 가능\n"
   ]
  },
  {
   "cell_type": "markdown",
   "id": "da4a1b3e",
   "metadata": {},
   "source": [
    "- 정밀도 (Precision)\n",
    "    - 양성이라고 예측한 것(TP+FP)중에 실제 양성(TP)일 확률\n",
    "    - 정밀도가 중요한 지표인 경우 : 음성인 데이터를 양성으로 예측하면 안되는 경우(스펨메일 분류 등)\n",
    "    - 그외.. 컨텐츠 필터링(유해한 컨텐츠)"
   ]
  },
  {
   "cell_type": "code",
   "execution_count": 56,
   "id": "5a46e7ef",
   "metadata": {},
   "outputs": [],
   "source": [
    "from sklearn.metrics import confusion_matrix, precision_score, recall_score, f1_score"
   ]
  },
  {
   "cell_type": "code",
   "execution_count": 63,
   "id": "5ff11456",
   "metadata": {},
   "outputs": [
    {
     "data": {
      "text/plain": [
       "array([[115,  24],\n",
       "       [ 25,  59]])"
      ]
     },
     "execution_count": 63,
     "metadata": {},
     "output_type": "execute_result"
    }
   ],
   "source": [
    "# 혼동행렬 생성, Titanic 데이터 예측 결과\n",
    "matrix = confusion_matrix(y_test, pred_test)\n",
    "matrix\n",
    "#                                   predicted\n",
    "# array([[112,  22],      Actual   [[TN, FP],\n",
    "#        [ 26,  63]])               [FN, TP]]"
   ]
  },
  {
   "cell_type": "code",
   "execution_count": 64,
   "id": "12789731",
   "metadata": {},
   "outputs": [
    {
     "data": {
      "text/plain": [
       "(0.7411764705882353, 0.7108433734939759)"
      ]
     },
     "execution_count": 64,
     "metadata": {},
     "output_type": "execute_result"
    }
   ],
   "source": [
    "# Precision 확인해보기기\n",
    "# TN, TP, FN, FP = matrix.flatten()\n",
    "TN, TP, FN, FP = 112, 63, 26, 22\n",
    "Precision = TP / (TP + FP)\n",
    "Precision, precision_score(y_test, pred_test)"
   ]
  },
  {
   "cell_type": "markdown",
   "id": "bc0c7980",
   "metadata": {},
   "source": [
    "- 재현율 (Recall)\n",
    "    - 실제 양성 (TP + FN) 중에 양성으로 예측한(TP) 확률\n",
    "    - 재현율이 중요한 경우: 양성인 데이터를 음성으로 예측하면 안되는 경우 (암진단, 보험/금융 사기 등)\n",
    "    - 실제 암인데 암이 아니라고 하면 안됨"
   ]
  },
  {
   "cell_type": "code",
   "execution_count": 65,
   "id": "b002b09a",
   "metadata": {},
   "outputs": [
    {
     "data": {
      "text/plain": [
       "(0.7078651685393258, 0.7023809523809523)"
      ]
     },
     "execution_count": 65,
     "metadata": {},
     "output_type": "execute_result"
    }
   ],
   "source": [
    "Recall = TP / (TP + FN)\n",
    "Recall, recall_score(y_test, pred_test)"
   ]
  },
  {
   "cell_type": "markdown",
   "id": "30be622c",
   "metadata": {},
   "source": [
    "### 좋은 모델이란?\n",
    "- 정밀도와 재현율의 조화를 이루는 모델\n",
    "- 정밀도와 재현율의 평균을 취하는 것이 일반적\n",
    "- F1 Score\n",
    "    - 정밀도와 재현율의 조화를 이루는 지표\n",
    "    - 정밀도와 재현율의 평균을 취하는 것이 일반적\n",
    "    - F1 Score"
   ]
  },
  {
   "cell_type": "code",
   "execution_count": 109,
   "id": "4828dd93",
   "metadata": {},
   "outputs": [
    {
     "name": "stdout",
     "output_type": "stream",
     "text": [
      "혼동행렬:\n",
      " [[117  22]\n",
      " [ 23  61]]\n",
      "정확도: 0.7982, 정밀도: 0.7349, 재현율: 0.7262, F1 Score: 0.7305\n"
     ]
    }
   ],
   "source": [
    "def evaluate_binary_classification(y_true, y_pred):\n",
    "    print('혼동행렬:\\n', confusion_matrix(y_true, y_pred))\n",
    "    print(f'정확도: {accuracy_score(y_true, y_pred):.4f}, 정밀도: {precision_score(y_true, y_pred):.4f}, 재현율: {recall_score(y_true, y_pred):.4f}, F1 Score: {f1_score(y_true, y_pred):.4f}')\n",
    "\n",
    "evaluate_binary_classification(y_test, pred_test)\n",
    "\n",
    "\n"
   ]
  },
  {
   "cell_type": "code",
   "execution_count": 67,
   "id": "8ee0fb52",
   "metadata": {},
   "outputs": [],
   "source": [
    "# 잘못 학습된 모델 만들어보기(2)\n",
    "class MyDeathClassifer(BaseEstimator):\n",
    "\n",
    "    def fit(self, X, y):\n",
    "        pass\n",
    "\n",
    "    def predict(self, X):\n",
    "        return np.zeros((X.shape[0], 1))"
   ]
  },
  {
   "cell_type": "code",
   "execution_count": 68,
   "id": "3ee6c3d7",
   "metadata": {},
   "outputs": [
    {
     "data": {
      "text/plain": [
       "((891, 1), (891, 12))"
      ]
     },
     "execution_count": 68,
     "metadata": {},
     "output_type": "execute_result"
    }
   ],
   "source": [
    "my_death_classifier = MyDeathClassifer()\n",
    "my_death_classifier.predict(X).shape, df.shape"
   ]
  },
  {
   "cell_type": "code",
   "execution_count": 69,
   "id": "113e0d7a",
   "metadata": {},
   "outputs": [
    {
     "name": "stdout",
     "output_type": "stream",
     "text": [
      "혼동행렬:\n",
      " [[410   0]\n",
      " [258   0]]\n",
      "정확도: 0.6138\n",
      "정밀도: 0.0000\n",
      "재현율: 0.0000\n",
      "F1 Score: 0.0000\n",
      "혼동행렬:\n",
      " [[139   0]\n",
      " [ 84   0]]\n",
      "정확도: 0.6233\n",
      "정밀도: 0.0000\n",
      "재현율: 0.0000\n",
      "F1 Score: 0.0000\n"
     ]
    },
    {
     "name": "stderr",
     "output_type": "stream",
     "text": [
      "c:\\Users\\Playdata\\anaconda3\\envs\\ml_env\\Lib\\site-packages\\sklearn\\metrics\\_classification.py:1731: UndefinedMetricWarning: Precision is ill-defined and being set to 0.0 due to no predicted samples. Use `zero_division` parameter to control this behavior.\n",
      "  _warn_prf(average, modifier, f\"{metric.capitalize()} is\", result.shape[0])\n",
      "c:\\Users\\Playdata\\anaconda3\\envs\\ml_env\\Lib\\site-packages\\sklearn\\metrics\\_classification.py:1731: UndefinedMetricWarning: Precision is ill-defined and being set to 0.0 due to no predicted samples. Use `zero_division` parameter to control this behavior.\n",
      "  _warn_prf(average, modifier, f\"{metric.capitalize()} is\", result.shape[0])\n"
     ]
    }
   ],
   "source": [
    "# 1. 모델 학습\n",
    "my_classifier = MyDeathClassifer()\n",
    "my_classifier.fit(X_train, y_train)\n",
    "\n",
    "# 2. 예측\n",
    "pred_train = my_classifier.predict(X_train)\n",
    "pred_test = my_classifier.predict(X_test)\n",
    "\n",
    "# 3. 평가\n",
    "evaluate_binary_classification(y_train, pred_train)\n",
    "evaluate_binary_classification(y_test, pred_test)\n"
   ]
  },
  {
   "cell_type": "code",
   "execution_count": 70,
   "id": "d2dd931e",
   "metadata": {},
   "outputs": [
    {
     "name": "stdout",
     "output_type": "stream",
     "text": [
      "혼동행렬:\n",
      " [[350  60]\n",
      " [ 77 181]]\n",
      "정확도: 0.7949\n",
      "정밀도: 0.7510\n",
      "재현율: 0.7016\n",
      "F1 Score: 0.7255\n",
      "혼동행렬:\n",
      " [[117  22]\n",
      " [ 23  61]]\n",
      "정확도: 0.7982\n",
      "정밀도: 0.7349\n",
      "재현율: 0.7262\n",
      "F1 Score: 0.7305\n"
     ]
    },
    {
     "name": "stderr",
     "output_type": "stream",
     "text": [
      "c:\\Users\\Playdata\\anaconda3\\envs\\ml_env\\Lib\\site-packages\\sklearn\\linear_model\\_logistic.py:473: ConvergenceWarning: lbfgs failed to converge after 100 iteration(s) (status=1):\n",
      "STOP: TOTAL NO. OF ITERATIONS REACHED LIMIT\n",
      "\n",
      "Increase the number of iterations to improve the convergence (max_iter=100).\n",
      "You might also want to scale the data as shown in:\n",
      "    https://scikit-learn.org/stable/modules/preprocessing.html\n",
      "Please also refer to the documentation for alternative solver options:\n",
      "    https://scikit-learn.org/stable/modules/linear_model.html#logistic-regression\n",
      "  n_iter_i = _check_optimize_result(\n"
     ]
    }
   ],
   "source": [
    "from sklearn.linear_model import LogisticRegression\n",
    "\n",
    "# 1. 모델 학습\n",
    "lr_clf = LogisticRegression()\n",
    "lr_clf.fit(X_train, y_train)\n",
    "\n",
    "# 2. 예측\n",
    "pred_train = lr_clf.predict(X_train)\n",
    "pred_test = lr_clf.predict(X_test)\n",
    "\n",
    "# 3. 평가\n",
    "evaluate_binary_classification(y_train, pred_train)\n",
    "evaluate_binary_classification(y_test, pred_test)"
   ]
  },
  {
   "cell_type": "code",
   "execution_count": null,
   "id": "2384761b",
   "metadata": {},
   "outputs": [],
   "source": [
    "- 정밀도와 재현율의 'trade-off' 관계\n",
    "    - 분류 결정 임계치(threshold)를 낮추면? positive 예측 데이터가 많아짐 (e.g. 0.3 이면 0.3 이상인 데이터는 모두 positive로 예측)\n",
    "        - 양성으로 예측한 데이터가 많아짐\n",
    "        - **정밀도는 낮아지고, 재현율을 높아진다.**\n",
    "    - 분류 결정 임계치(threshold)를 높이면? negative 예측 데이터가 많아짐 (e.g. 0.7 이면 0.7 미만인 데이터는 모두 negative로 예측)\n",
    "        - 양성으로 예측한 데이터가 적어짐\n",
    "        - **정밀도는 높아지고, 재현율을 낮아진다.**\n",
    "\n",
    "LogisticRegression 은 기본적으로 0.5 임계치를 사용\n",
    "Sigmoid 함수의 출력값이 0.5 이상이면 양성으로 분류\n",
    "Sigmoid 함수의 출력값이 0.5 미만이면 음성으로 분류\n",
    "\n",
    "분류결정 임계치 = threshold = 기본값 0.5\n",
    "임계치 낮추기 : 정밀도 낮아짐, 재현율 높아짐\n",
    "임계치 높이기 : 정밀도 높아짐, 재현율 낮아짐\n",
    "\n",
    "임계치 0.5 일때\n",
    "---------------------\n",
    "|예측 |sigmoid |실제|                  TP = 2, FP = 0, TN = 3, FN = 0\n",
    "|0    |0.1     |0   | TN              Precision = TP / (TP + FP) = 2 / (2 + 0) = 1\n",
    "|0    |0.3     |0   | TN              Recall    = TP / (TP + FN) = 2 / (2 + 0) = 1\n",
    "|0    |0.4     |0   | TN\n",
    "|1    |0.5     |1   | TP\n",
    "|1    |0.8     |1   | TP \n",
    "\n",
    "임계치 0.3 일때                        임계치를 낮추니 정밀도가 낮아짐\n",
    "---------------------                 \n",
    "|예측 |sigmoid |실제|                  TP = 2, FP = 0, TN = 1, FN = 2\n",
    "|0    |0.1     |0   | TN              Precision = TP / (TP + FP) = 2 / (2 + 0) = 1\n",
    "|0    |0.3     |1   | FN              Recall    = TP / (TP + FN) = 2 / (2 + 2) = 0.4\n",
    "|0    |0.4     |1   | FN\n",
    "|1    |0.5     |1   | TP\n",
    "|1    |0.8     |1   | TP\n",
    "\n",
    "정밀도와 재현율의 'trade-off' 관계 증명"
   ]
  },
  {
   "cell_type": "markdown",
   "id": "89d8446a",
   "metadata": {},
   "source": [
    "${Precision} = \\frac{TP}{TP + FP}$"
   ]
  },
  {
   "cell_type": "markdown",
   "id": "e8b4fee0",
   "metadata": {},
   "source": [
    "${Recall} = \\frac{TP}{TP + FN}$"
   ]
  },
  {
   "cell_type": "code",
   "execution_count": 79,
   "id": "0e0bf612",
   "metadata": {},
   "outputs": [
    {
     "data": {
      "text/plain": [
       "array([[0., 0., 1.],\n",
       "       [1., 0., 0.],\n",
       "       [0., 1., 1.]])"
      ]
     },
     "execution_count": 79,
     "metadata": {},
     "output_type": "execute_result"
    }
   ],
   "source": [
    "from sklearn.preprocessing import Binarizer # data를 threshold 기준으로 이진 분류해주는 전처리 모델\n",
    "\n",
    "temp_X = [[1, -1, 2], [2, 0, 0.8], [0, 1.1, 1.2]]\n",
    "\n",
    "binarizer = Binarizer(threshold=1.0) # threshold를 기준으로 초과하는 값은 1, 이하인 값은 0으로 변환\n",
    "adj_X = binarizer.fit_transform(temp_X)\n",
    "adj_X\n",
    "\n",
    "# threshold 0.09 일때\n",
    "# array([[1., 0., 1.],\n",
    "#        [1., 0., 1.],\n",
    "#        [0., 1., 1.]])\n",
    "\n",
    "# threshold 0.5 일때\n",
    "# array([[1., 0., 1.],\n",
    "#        [1., 0., 1.],\n",
    "#        [0., 1., 1.]])\n",
    "\n",
    "# threshold 1.0 일때\n",
    "# array([[0., 0., 1.],\n",
    "#        [1., 0., 0.],\n",
    "#        [0., 1., 1.]])"
   ]
  },
  {
   "cell_type": "code",
   "execution_count": 86,
   "id": "3e17202d",
   "metadata": {},
   "outputs": [
    {
     "name": "stdout",
     "output_type": "stream",
     "text": [
      "[[0.83741741 0.16258259]\n",
      " [0.88842911 0.11157089]\n",
      " [0.92060845 0.07939155]\n",
      " [0.0559761  0.9440239 ]\n",
      " [0.29857741 0.70142259]\n",
      " [0.50640704 0.49359296]\n",
      " [0.09195634 0.90804366]]\n",
      "[0 0 0 1 1 0 1]\n"
     ]
    }
   ],
   "source": [
    "pred_proba = lr_clf.predict_proba(X_test)\n",
    "print(pred_proba[:7])\n",
    "\n",
    "pred = lr_clf.predict(X_test)\n",
    "print(pred[:7])"
   ]
  },
  {
   "cell_type": "code",
   "execution_count": 96,
   "id": "2231a5ca",
   "metadata": {},
   "outputs": [
    {
     "data": {
      "text/plain": [
       "(array([[0.83741741, 0.16258259],\n",
       "        [0.88842911, 0.11157089],\n",
       "        [0.92060845, 0.07939155],\n",
       "        [0.0559761 , 0.9440239 ],\n",
       "        [0.29857741, 0.70142259],\n",
       "        [0.50640704, 0.49359296],\n",
       "        [0.09195634, 0.90804366],\n",
       "        [0.07323689, 0.92676311],\n",
       "        [0.40974162, 0.59025838],\n",
       "        [0.28178553, 0.71821447],\n",
       "        [0.906607  , 0.093393  ],\n",
       "        [0.27176354, 0.72823646],\n",
       "        [0.87346171, 0.12653829],\n",
       "        [0.10177108, 0.89822892],\n",
       "        [0.03670249, 0.96329751],\n",
       "        [0.2451767 , 0.7548233 ],\n",
       "        [0.85936276, 0.14063724],\n",
       "        [0.75933478, 0.24066522],\n",
       "        [0.90739889, 0.09260111],\n",
       "        [0.6354339 , 0.3645661 ],\n",
       "        [0.67598079, 0.32401921],\n",
       "        [0.06166102, 0.93833898],\n",
       "        [0.87346325, 0.12653675],\n",
       "        [0.57368582, 0.42631418],\n",
       "        [0.30730705, 0.69269295],\n",
       "        [0.10106102, 0.89893898],\n",
       "        [0.89703557, 0.10296443],\n",
       "        [0.30780262, 0.69219738],\n",
       "        [0.17800362, 0.82199638],\n",
       "        [0.38484116, 0.61515884],\n",
       "        [0.85509658, 0.14490342],\n",
       "        [0.35653466, 0.64346534],\n",
       "        [0.88141889, 0.11858111],\n",
       "        [0.50501381, 0.49498619],\n",
       "        [0.91617951, 0.08382049],\n",
       "        [0.40941321, 0.59058679],\n",
       "        [0.93073536, 0.06926464],\n",
       "        [0.75564443, 0.24435557],\n",
       "        [0.73271057, 0.26728943],\n",
       "        [0.8952444 , 0.1047556 ],\n",
       "        [0.74664738, 0.25335262],\n",
       "        [0.81195651, 0.18804349],\n",
       "        [0.88765886, 0.11234114],\n",
       "        [0.94564085, 0.05435915],\n",
       "        [0.11258741, 0.88741259],\n",
       "        [0.8883909 , 0.1116091 ],\n",
       "        [0.8883909 , 0.1116091 ],\n",
       "        [0.04964225, 0.95035775],\n",
       "        [0.82604844, 0.17395156],\n",
       "        [0.79533524, 0.20466476],\n",
       "        [0.5201275 , 0.4798725 ],\n",
       "        [0.35696722, 0.64303278],\n",
       "        [0.11845338, 0.88154662],\n",
       "        [0.83949846, 0.16050154],\n",
       "        [0.40096738, 0.59903262],\n",
       "        [0.8304702 , 0.1695298 ],\n",
       "        [0.78545525, 0.21454475],\n",
       "        [0.55577372, 0.44422628],\n",
       "        [0.91891854, 0.08108146],\n",
       "        [0.93098207, 0.06901793],\n",
       "        [0.79331555, 0.20668445],\n",
       "        [0.42196629, 0.57803371],\n",
       "        [0.15621398, 0.84378602],\n",
       "        [0.46489818, 0.53510182],\n",
       "        [0.37753275, 0.62246725],\n",
       "        [0.88311058, 0.11688942],\n",
       "        [0.14928447, 0.85071553],\n",
       "        [0.76184524, 0.23815476],\n",
       "        [0.1101709 , 0.8898291 ],\n",
       "        [0.04604906, 0.95395094],\n",
       "        [0.21678173, 0.78321827],\n",
       "        [0.74336527, 0.25663473],\n",
       "        [0.52219479, 0.47780521],\n",
       "        [0.88837385, 0.11162615],\n",
       "        [0.86647999, 0.13352001],\n",
       "        [0.41187194, 0.58812806],\n",
       "        [0.62135685, 0.37864315],\n",
       "        [0.56878165, 0.43121835],\n",
       "        [0.90419815, 0.09580185],\n",
       "        [0.68191848, 0.31808152],\n",
       "        [0.90527443, 0.09472557],\n",
       "        [0.83965759, 0.16034241],\n",
       "        [0.24102488, 0.75897512],\n",
       "        [0.82301286, 0.17698714],\n",
       "        [0.86033967, 0.13966033],\n",
       "        [0.05229522, 0.94770478],\n",
       "        [0.07942625, 0.92057375],\n",
       "        [0.68926082, 0.31073918],\n",
       "        [0.20963585, 0.79036415],\n",
       "        [0.35314093, 0.64685907],\n",
       "        [0.50131553, 0.49868447],\n",
       "        [0.83949846, 0.16050154],\n",
       "        [0.6045199 , 0.3954801 ],\n",
       "        [0.07944447, 0.92055553],\n",
       "        [0.45157207, 0.54842793],\n",
       "        [0.83851159, 0.16148841],\n",
       "        [0.18281331, 0.81718669],\n",
       "        [0.94953747, 0.05046253],\n",
       "        [0.81624096, 0.18375904],\n",
       "        [0.37626631, 0.62373369],\n",
       "        [0.96270127, 0.03729873],\n",
       "        [0.92242109, 0.07757891],\n",
       "        [0.82434131, 0.17565869],\n",
       "        [0.88266104, 0.11733896],\n",
       "        [0.45251853, 0.54748147],\n",
       "        [0.52209517, 0.47790483],\n",
       "        [0.18903892, 0.81096108],\n",
       "        [0.54846408, 0.45153592],\n",
       "        [0.79208569, 0.20791431],\n",
       "        [0.42167027, 0.57832973],\n",
       "        [0.94228062, 0.05771938],\n",
       "        [0.06186295, 0.93813705],\n",
       "        [0.89192303, 0.10807697],\n",
       "        [0.37552655, 0.62447345],\n",
       "        [0.64114035, 0.35885965],\n",
       "        [0.18897911, 0.81102089],\n",
       "        [0.40195366, 0.59804634],\n",
       "        [0.03488088, 0.96511912],\n",
       "        [0.92263419, 0.07736581],\n",
       "        [0.40091484, 0.59908516],\n",
       "        [0.88290515, 0.11709485],\n",
       "        [0.87337442, 0.12662558],\n",
       "        [0.84460429, 0.15539571],\n",
       "        [0.65864159, 0.34135841],\n",
       "        [0.90052876, 0.09947124],\n",
       "        [0.65811873, 0.34188127],\n",
       "        [0.83851222, 0.16148778],\n",
       "        [0.9032382 , 0.0967618 ],\n",
       "        [0.76982731, 0.23017269],\n",
       "        [0.88384641, 0.11615359],\n",
       "        [0.27045569, 0.72954431],\n",
       "        [0.84977318, 0.15022682],\n",
       "        [0.86886106, 0.13113894],\n",
       "        [0.36642067, 0.63357933],\n",
       "        [0.83871329, 0.16128671],\n",
       "        [0.84977318, 0.15022682],\n",
       "        [0.90683054, 0.09316946],\n",
       "        [0.55915338, 0.44084662],\n",
       "        [0.88926313, 0.11073687],\n",
       "        [0.71706001, 0.28293999],\n",
       "        [0.75512948, 0.24487052],\n",
       "        [0.09170434, 0.90829566],\n",
       "        [0.88837385, 0.11162615],\n",
       "        [0.24806891, 0.75193109],\n",
       "        [0.1958768 , 0.8041232 ],\n",
       "        [0.32450504, 0.67549496],\n",
       "        [0.76935161, 0.23064839],\n",
       "        [0.35937574, 0.64062426],\n",
       "        [0.08123201, 0.91876799],\n",
       "        [0.88830613, 0.11169387],\n",
       "        [0.71314476, 0.28685524],\n",
       "        [0.3771404 , 0.6228596 ],\n",
       "        [0.44429326, 0.55570674],\n",
       "        [0.88565483, 0.11434517],\n",
       "        [0.08987053, 0.91012947],\n",
       "        [0.74086178, 0.25913822],\n",
       "        [0.42942324, 0.57057676],\n",
       "        [0.92153182, 0.07846818],\n",
       "        [0.34278728, 0.65721272],\n",
       "        [0.20767346, 0.79232654],\n",
       "        [0.8883909 , 0.1116091 ],\n",
       "        [0.78014882, 0.21985118],\n",
       "        [0.19028268, 0.80971732],\n",
       "        [0.65545932, 0.34454068],\n",
       "        [0.81349365, 0.18650635],\n",
       "        [0.85588492, 0.14411508],\n",
       "        [0.94840432, 0.05159568],\n",
       "        [0.85475011, 0.14524989],\n",
       "        [0.8642135 , 0.1357865 ],\n",
       "        [0.82851689, 0.17148311],\n",
       "        [0.94834997, 0.05165003],\n",
       "        [0.08617917, 0.91382083],\n",
       "        [0.88846226, 0.11153774],\n",
       "        [0.88765886, 0.11234114],\n",
       "        [0.16924155, 0.83075845],\n",
       "        [0.88837385, 0.11162615],\n",
       "        [0.06733426, 0.93266574],\n",
       "        [0.85954734, 0.14045266],\n",
       "        [0.83947529, 0.16052471],\n",
       "        [0.30435534, 0.69564466],\n",
       "        [0.77672592, 0.22327408],\n",
       "        [0.76705554, 0.23294446],\n",
       "        [0.78076322, 0.21923678],\n",
       "        [0.84988699, 0.15011301],\n",
       "        [0.65655874, 0.34344126],\n",
       "        [0.85471493, 0.14528507],\n",
       "        [0.34275483, 0.65724517],\n",
       "        [0.76982731, 0.23017269],\n",
       "        [0.87317908, 0.12682092],\n",
       "        [0.2331204 , 0.7668796 ],\n",
       "        [0.37557896, 0.62442104],\n",
       "        [0.58466857, 0.41533143],\n",
       "        [0.1805666 , 0.8194334 ],\n",
       "        [0.34279042, 0.65720958],\n",
       "        [0.87346171, 0.12653829],\n",
       "        [0.72164296, 0.27835704],\n",
       "        [0.88837385, 0.11162615],\n",
       "        [0.22516847, 0.77483153],\n",
       "        [0.61554056, 0.38445944],\n",
       "        [0.94483661, 0.05516339],\n",
       "        [0.83411579, 0.16588421],\n",
       "        [0.35433006, 0.64566994],\n",
       "        [0.94143787, 0.05856213],\n",
       "        [0.22923751, 0.77076249],\n",
       "        [0.83947529, 0.16052471],\n",
       "        [0.75176552, 0.24823448],\n",
       "        [0.46879083, 0.53120917],\n",
       "        [0.89698751, 0.10301249],\n",
       "        [0.23352227, 0.76647773],\n",
       "        [0.94639339, 0.05360661],\n",
       "        [0.8643241 , 0.1356759 ],\n",
       "        [0.62611735, 0.37388265],\n",
       "        [0.92966279, 0.07033721],\n",
       "        [0.20515808, 0.79484192],\n",
       "        [0.78971408, 0.21028592],\n",
       "        [0.83949846, 0.16050154],\n",
       "        [0.76841818, 0.23158182],\n",
       "        [0.80146135, 0.19853865],\n",
       "        [0.65684219, 0.34315781],\n",
       "        [0.05716674, 0.94283326],\n",
       "        [0.8395166 , 0.1604834 ],\n",
       "        [0.05550092, 0.94449908],\n",
       "        [0.23529902, 0.76470098]]),\n",
       " (223, 2))"
      ]
     },
     "execution_count": 96,
     "metadata": {},
     "output_type": "execute_result"
    }
   ],
   "source": [
    "pred_proba, pred_proba.shape"
   ]
  },
  {
   "cell_type": "code",
   "execution_count": 95,
   "id": "9d838224",
   "metadata": {},
   "outputs": [
    {
     "data": {
      "text/plain": [
       "(array([[0.16258259],\n",
       "        [0.11157089],\n",
       "        [0.07939155],\n",
       "        [0.9440239 ],\n",
       "        [0.70142259],\n",
       "        [0.49359296],\n",
       "        [0.90804366],\n",
       "        [0.92676311],\n",
       "        [0.59025838],\n",
       "        [0.71821447],\n",
       "        [0.093393  ],\n",
       "        [0.72823646],\n",
       "        [0.12653829],\n",
       "        [0.89822892],\n",
       "        [0.96329751],\n",
       "        [0.7548233 ],\n",
       "        [0.14063724],\n",
       "        [0.24066522],\n",
       "        [0.09260111],\n",
       "        [0.3645661 ],\n",
       "        [0.32401921],\n",
       "        [0.93833898],\n",
       "        [0.12653675],\n",
       "        [0.42631418],\n",
       "        [0.69269295],\n",
       "        [0.89893898],\n",
       "        [0.10296443],\n",
       "        [0.69219738],\n",
       "        [0.82199638],\n",
       "        [0.61515884],\n",
       "        [0.14490342],\n",
       "        [0.64346534],\n",
       "        [0.11858111],\n",
       "        [0.49498619],\n",
       "        [0.08382049],\n",
       "        [0.59058679],\n",
       "        [0.06926464],\n",
       "        [0.24435557],\n",
       "        [0.26728943],\n",
       "        [0.1047556 ],\n",
       "        [0.25335262],\n",
       "        [0.18804349],\n",
       "        [0.11234114],\n",
       "        [0.05435915],\n",
       "        [0.88741259],\n",
       "        [0.1116091 ],\n",
       "        [0.1116091 ],\n",
       "        [0.95035775],\n",
       "        [0.17395156],\n",
       "        [0.20466476],\n",
       "        [0.4798725 ],\n",
       "        [0.64303278],\n",
       "        [0.88154662],\n",
       "        [0.16050154],\n",
       "        [0.59903262],\n",
       "        [0.1695298 ],\n",
       "        [0.21454475],\n",
       "        [0.44422628],\n",
       "        [0.08108146],\n",
       "        [0.06901793],\n",
       "        [0.20668445],\n",
       "        [0.57803371],\n",
       "        [0.84378602],\n",
       "        [0.53510182],\n",
       "        [0.62246725],\n",
       "        [0.11688942],\n",
       "        [0.85071553],\n",
       "        [0.23815476],\n",
       "        [0.8898291 ],\n",
       "        [0.95395094],\n",
       "        [0.78321827],\n",
       "        [0.25663473],\n",
       "        [0.47780521],\n",
       "        [0.11162615],\n",
       "        [0.13352001],\n",
       "        [0.58812806],\n",
       "        [0.37864315],\n",
       "        [0.43121835],\n",
       "        [0.09580185],\n",
       "        [0.31808152],\n",
       "        [0.09472557],\n",
       "        [0.16034241],\n",
       "        [0.75897512],\n",
       "        [0.17698714],\n",
       "        [0.13966033],\n",
       "        [0.94770478],\n",
       "        [0.92057375],\n",
       "        [0.31073918],\n",
       "        [0.79036415],\n",
       "        [0.64685907],\n",
       "        [0.49868447],\n",
       "        [0.16050154],\n",
       "        [0.3954801 ],\n",
       "        [0.92055553],\n",
       "        [0.54842793],\n",
       "        [0.16148841],\n",
       "        [0.81718669],\n",
       "        [0.05046253],\n",
       "        [0.18375904],\n",
       "        [0.62373369],\n",
       "        [0.03729873],\n",
       "        [0.07757891],\n",
       "        [0.17565869],\n",
       "        [0.11733896],\n",
       "        [0.54748147],\n",
       "        [0.47790483],\n",
       "        [0.81096108],\n",
       "        [0.45153592],\n",
       "        [0.20791431],\n",
       "        [0.57832973],\n",
       "        [0.05771938],\n",
       "        [0.93813705],\n",
       "        [0.10807697],\n",
       "        [0.62447345],\n",
       "        [0.35885965],\n",
       "        [0.81102089],\n",
       "        [0.59804634],\n",
       "        [0.96511912],\n",
       "        [0.07736581],\n",
       "        [0.59908516],\n",
       "        [0.11709485],\n",
       "        [0.12662558],\n",
       "        [0.15539571],\n",
       "        [0.34135841],\n",
       "        [0.09947124],\n",
       "        [0.34188127],\n",
       "        [0.16148778],\n",
       "        [0.0967618 ],\n",
       "        [0.23017269],\n",
       "        [0.11615359],\n",
       "        [0.72954431],\n",
       "        [0.15022682],\n",
       "        [0.13113894],\n",
       "        [0.63357933],\n",
       "        [0.16128671],\n",
       "        [0.15022682],\n",
       "        [0.09316946],\n",
       "        [0.44084662],\n",
       "        [0.11073687],\n",
       "        [0.28293999],\n",
       "        [0.24487052],\n",
       "        [0.90829566],\n",
       "        [0.11162615],\n",
       "        [0.75193109],\n",
       "        [0.8041232 ],\n",
       "        [0.67549496],\n",
       "        [0.23064839],\n",
       "        [0.64062426],\n",
       "        [0.91876799],\n",
       "        [0.11169387],\n",
       "        [0.28685524],\n",
       "        [0.6228596 ],\n",
       "        [0.55570674],\n",
       "        [0.11434517],\n",
       "        [0.91012947],\n",
       "        [0.25913822],\n",
       "        [0.57057676],\n",
       "        [0.07846818],\n",
       "        [0.65721272],\n",
       "        [0.79232654],\n",
       "        [0.1116091 ],\n",
       "        [0.21985118],\n",
       "        [0.80971732],\n",
       "        [0.34454068],\n",
       "        [0.18650635],\n",
       "        [0.14411508],\n",
       "        [0.05159568],\n",
       "        [0.14524989],\n",
       "        [0.1357865 ],\n",
       "        [0.17148311],\n",
       "        [0.05165003],\n",
       "        [0.91382083],\n",
       "        [0.11153774],\n",
       "        [0.11234114],\n",
       "        [0.83075845],\n",
       "        [0.11162615],\n",
       "        [0.93266574],\n",
       "        [0.14045266],\n",
       "        [0.16052471],\n",
       "        [0.69564466],\n",
       "        [0.22327408],\n",
       "        [0.23294446],\n",
       "        [0.21923678],\n",
       "        [0.15011301],\n",
       "        [0.34344126],\n",
       "        [0.14528507],\n",
       "        [0.65724517],\n",
       "        [0.23017269],\n",
       "        [0.12682092],\n",
       "        [0.7668796 ],\n",
       "        [0.62442104],\n",
       "        [0.41533143],\n",
       "        [0.8194334 ],\n",
       "        [0.65720958],\n",
       "        [0.12653829],\n",
       "        [0.27835704],\n",
       "        [0.11162615],\n",
       "        [0.77483153],\n",
       "        [0.38445944],\n",
       "        [0.05516339],\n",
       "        [0.16588421],\n",
       "        [0.64566994],\n",
       "        [0.05856213],\n",
       "        [0.77076249],\n",
       "        [0.16052471],\n",
       "        [0.24823448],\n",
       "        [0.53120917],\n",
       "        [0.10301249],\n",
       "        [0.76647773],\n",
       "        [0.05360661],\n",
       "        [0.1356759 ],\n",
       "        [0.37388265],\n",
       "        [0.07033721],\n",
       "        [0.79484192],\n",
       "        [0.21028592],\n",
       "        [0.16050154],\n",
       "        [0.23158182],\n",
       "        [0.19853865],\n",
       "        [0.34315781],\n",
       "        [0.94283326],\n",
       "        [0.1604834 ],\n",
       "        [0.94449908],\n",
       "        [0.76470098]]),\n",
       " (223, 1))"
      ]
     },
     "execution_count": 95,
     "metadata": {},
     "output_type": "execute_result"
    }
   ],
   "source": [
    "pred_proba_1 = pred_proba[:, 1].reshape(-1, 1)\n",
    "pred_proba_1, pred_proba_1.shape"
   ]
  },
  {
   "cell_type": "code",
   "execution_count": null,
   "id": "8c1921a5",
   "metadata": {},
   "outputs": [],
   "source": [
    "임계값을 올리면 positive 예측 데이터가 적어짐 → 정밀도 높아짐, 재현율 낮아짐\n",
    "임계값을 낮추면 positive 예측 데이터가 많아짐 → 정밀도 낮아짐, 재현율 높아짐"
   ]
  },
  {
   "cell_type": "code",
   "execution_count": 88,
   "id": "d0b214db",
   "metadata": {},
   "outputs": [
    {
     "name": "stdout",
     "output_type": "stream",
     "text": [
      "혼동행렬:\n",
      " [[117  22]\n",
      " [ 23  61]]\n",
      "정확도: 0.7982\n",
      "정밀도: 0.7349\n",
      "재현율: 0.7262\n",
      "F1 Score: 0.7305\n",
      "혼동행렬:\n",
      " [[124  15]\n",
      " [ 30  54]]\n",
      "정확도: 0.7982\n",
      "정밀도: 0.7826\n",
      "재현율: 0.6429\n",
      "F1 Score: 0.7059\n"
     ]
    }
   ],
   "source": [
    "from sklearn.preprocessing import Binarizer\n",
    "\n",
    "# 1(생존)일 확률만 가져오고 + 배치 차원 추가\n",
    "predict_proba_1 = pred_proba[:, 1].reshape(-1, 1)\n",
    "\n",
    "binarizer = Binarizer(threshold=0.5)\n",
    "custom_pred = binarizer.fit_transform(predict_proba_1)\n",
    "evaluate_binary_classification(y_test, custom_pred)\n",
    "\n",
    "binarizer = Binarizer(threshold=0.6)\n",
    "custom_pred = binarizer.fit_transform(predict_proba_1)\n",
    "evaluate_binary_classification(y_test, custom_pred)"
   ]
  },
  {
   "cell_type": "code",
   "execution_count": 91,
   "id": "885810cd",
   "metadata": {},
   "outputs": [
    {
     "name": "stdout",
     "output_type": "stream",
     "text": [
      "혼동행렬:\n",
      " [[109  30]\n",
      " [ 19  65]]\n",
      "정확도: 0.7803\n",
      "정밀도: 0.6842\n",
      "재현율: 0.7738\n",
      "F1 Score: 0.7263\n",
      "혼동행렬:\n",
      " [[114  25]\n",
      " [ 19  65]]\n",
      "정확도: 0.8027\n",
      "정밀도: 0.7222\n",
      "재현율: 0.7738\n",
      "F1 Score: 0.7471\n",
      "혼동행렬:\n",
      " [[117  22]\n",
      " [ 23  61]]\n",
      "정확도: 0.7982\n",
      "정밀도: 0.7349\n",
      "재현율: 0.7262\n",
      "F1 Score: 0.7305\n",
      "혼동행렬:\n",
      " [[121  18]\n",
      " [ 23  61]]\n",
      "정확도: 0.8161\n",
      "정밀도: 0.7722\n",
      "재현율: 0.7262\n",
      "F1 Score: 0.7485\n",
      "혼동행렬:\n",
      " [[124  15]\n",
      " [ 30  54]]\n",
      "정확도: 0.7982\n",
      "정밀도: 0.7826\n",
      "재현율: 0.6429\n",
      "F1 Score: 0.7059\n"
     ]
    }
   ],
   "source": [
    "# 임계치 별 평가 결과 확인\n",
    "threshold = [0.4, 0.45, 0.5, 0.55, 0.6]\n",
    "\n",
    "def evaluate_by_threshold(y_true, y_pred, thresholds):\n",
    "    for threshold in thresholds:\n",
    "        binarizer = Binarizer(threshold=threshold)\n",
    "        custom_pred = binarizer.fit_transform(y_pred)\n",
    "        evaluate_binary_classification(y_true, custom_pred)\n",
    "\n",
    "evaluate_by_threshold(y_test, predict_proba_1, threshold)\n"
   ]
  },
  {
   "cell_type": "code",
   "execution_count": 103,
   "id": "b6b5b50b",
   "metadata": {},
   "outputs": [
    {
     "data": {
      "image/png": "[encoded data removed]",
      "text/plain": [
       "<Figure size 600x400 with 1 Axes>"
      ]
     },
     "metadata": {},
     "output_type": "display_data"
    }
   ],
   "source": [
    "# 정밀도-재현율 변화 과정 시각화\n",
    "from sklearn.metrics import precision_recall_curve\n",
    "import matplotlib.pyplot as plt\n",
    "\n",
    "# 실제값과 양성이라고 예측한 확률을 넣어주면, threshold에 따른 precision과 recall을 반환\n",
    "precision, recall, thresholds = precision_recall_curve(y_test, predict_proba_1)\n",
    "\n",
    "# 기준 threshold 211개\n",
    "# - 정밀도와 재현율에 추가된 마지막 값은 극단적 임계값 설정에 대한 계산 결과\n",
    "# - 정밀도는 마지막에 1 추가 (임계값이 매우 낮아 모든 샘플이 양성으로 예측된 경우)\n",
    "# - 재현율은 마지막에 0 추가 (임계값이 매우 높아 모든 샘플이 음성으로 예측된 경우)\n",
    "\n",
    "# precision.shape, recall.shape, thresholds.shape\n",
    "# ((212,), (212,), (211,))\n",
    "\n",
    "# 정밀도-재현율 곡선 시각화\n",
    "plt.figure(figsize=(6, 4))\n",
    "plt.plot(thresholds, precision[:-1], linestyle='--', label='Precision Curve')\n",
    "plt.plot(thresholds, recall[:-1], label='Recall Curve')\n",
    "plt.xlabel('Threshold')\n",
    "plt.ylabel('Precision and Recall value')\n",
    "plt.legend()\n",
    "plt.show()"
   ]
  },
  {
   "cell_type": "markdown",
   "id": "04f5389e",
   "metadata": {},
   "source": [
    "- F1 Score\n",
    "    - 정밀도와 재현율의 조화 평균\n",
    "    - 정밀도와 재현율의 평균을 취하는 것이 일반적\n",
    "    - F1 Score"
   ]
  },
  {
   "cell_type": "code",
   "execution_count": 105,
   "id": "89578a65",
   "metadata": {},
   "outputs": [
    {
     "data": {
      "text/plain": [
       "0.7305389221556886"
      ]
     },
     "execution_count": 105,
     "metadata": {},
     "output_type": "execute_result"
    }
   ],
   "source": [
    "from sklearn.metrics import f1_score\n",
    "\n",
    "f1_score(y_test, pred_test)"
   ]
  },
  {
   "cell_type": "code",
   "execution_count": 110,
   "id": "5e0ca28e",
   "metadata": {},
   "outputs": [
    {
     "name": "stdout",
     "output_type": "stream",
     "text": [
      "혼동행렬:\n",
      " [[109  30]\n",
      " [ 19  65]]\n",
      "정확도: 0.7803, 정밀도: 0.6842, 재현율: 0.7738, F1 Score: 0.7263\n",
      "혼동행렬:\n",
      " [[114  25]\n",
      " [ 19  65]]\n",
      "정확도: 0.8027, 정밀도: 0.7222, 재현율: 0.7738, F1 Score: 0.7471\n",
      "혼동행렬:\n",
      " [[117  22]\n",
      " [ 23  61]]\n",
      "정확도: 0.7982, 정밀도: 0.7349, 재현율: 0.7262, F1 Score: 0.7305\n",
      "혼동행렬:\n",
      " [[121  18]\n",
      " [ 23  61]]\n",
      "정확도: 0.8161, 정밀도: 0.7722, 재현율: 0.7262, F1 Score: 0.7485\n",
      "혼동행렬:\n",
      " [[124  15]\n",
      " [ 30  54]]\n",
      "정확도: 0.7982, 정밀도: 0.7826, 재현율: 0.6429, F1 Score: 0.7059\n",
      "혼동행렬:\n",
      " [[130   9]\n",
      " [ 36  48]]\n",
      "정확도: 0.7982, 정밀도: 0.8421, 재현율: 0.5714, F1 Score: 0.6809\n",
      "혼동행렬:\n",
      " [[134   5]\n",
      " [ 39  45]]\n",
      "정확도: 0.8027, 정밀도: 0.9000, 재현율: 0.5357, F1 Score: 0.6716\n"
     ]
    }
   ],
   "source": [
    "# 임계치 별 평가 결과 확인\n",
    "threshold = [0.4, 0.45, 0.5, 0.55, 0.6, 0.65, 0.7]\n",
    "\n",
    "def evaluate_by_threshold(y_true, y_pred, thresholds):\n",
    "    for threshold in thresholds:\n",
    "        binarizer = Binarizer(threshold=threshold)\n",
    "        custom_pred = binarizer.fit_transform(y_pred)\n",
    "        evaluate_binary_classification(y_true, custom_pred)\n",
    "\n",
    "evaluate_by_threshold(y_test, predict_proba_1, threshold)\n",
    "\n",
    "# evaluate_binary_classification(y_test, y_pred)"
   ]
  },
  {
   "cell_type": "markdown",
   "id": "e64a4aa0",
   "metadata": {},
   "source": [
    "##### ROC Curve - AUC\n",
    "- ROC Curve (Receiver Operation Characteristic Curve, 수신자 조작 특성 커브)\n",
    "    - x축: FPR (False Positive Rate), 실제 음성을 잘못 예측한 비율\n",
    "        - FPR = FP / (FP + TN)\n",
    "    - y축: TPR (True Positive Rate), recall score\n",
    "        - TPR = TP / (FN + TP)\n",
    "- AUC (Area Under Curve) : ROC 곡선 아래 면적 (1에 가까울수록 성능 좋음)"
   ]
  },
  {
   "cell_type": "code",
   "execution_count": 112,
   "id": "49391892",
   "metadata": {},
   "outputs": [
    {
     "data": {
      "text/plain": [
       "(array([0. , 0. , 0.5, 0.5, 1. ]),\n",
       " array([0. , 0.5, 0.5, 1. , 1. ]),\n",
       " array([ inf, 0.8 , 0.4 , 0.35, 0.1 ]))"
      ]
     },
     "execution_count": 112,
     "metadata": {},
     "output_type": "execute_result"
    }
   ],
   "source": [
    "from sklearn.metrics import roc_curve\n",
    "\n",
    "y_true_sample = np.array([0, 0, 1, 1])\n",
    "y_pred_sample = np.array([0.1, 0.4, 0.35, 0.8])\n",
    "\n",
    "fpr, tpr, thresholds = roc_curve(y_true_sample, y_pred_sample)\n",
    "fpr, tpr, thresholds\n",
    "\n",
    "# (array([0. , 0. , 0.5, 0.5, 1. ]), # FPR\n",
    "#  array([0. , 0.5, 0.5, 1. , 1. ]), # TPR\n",
    "#  array([ inf, 0.8 , 0.4 , 0.35, 0.1 ])) # threshold"
   ]
  },
  {
   "cell_type": "code",
   "execution_count": 115,
   "id": "225d4352",
   "metadata": {},
   "outputs": [
    {
     "name": "stderr",
     "output_type": "stream",
     "text": [
      "c:\\Users\\Playdata\\anaconda3\\envs\\ml_env\\Lib\\site-packages\\sklearn\\linear_model\\_logistic.py:473: ConvergenceWarning: lbfgs failed to converge after 100 iteration(s) (status=1):\n",
      "STOP: TOTAL NO. OF ITERATIONS REACHED LIMIT\n",
      "\n",
      "Increase the number of iterations to improve the convergence (max_iter=100).\n",
      "You might also want to scale the data as shown in:\n",
      "    https://scikit-learn.org/stable/modules/preprocessing.html\n",
      "Please also refer to the documentation for alternative solver options:\n",
      "    https://scikit-learn.org/stable/modules/linear_model.html#logistic-regression\n",
      "  n_iter_i = _check_optimize_result(\n"
     ]
    },
    {
     "data": {
      "image/png": "[encoded data removed]",
      "text/plain": [
       "<Figure size 640x480 with 1 Axes>"
      ]
     },
     "metadata": {},
     "output_type": "display_data"
    }
   ],
   "source": [
    "# AUC 평가\n",
    "from sklearn.metrics import auc\n",
    "\n",
    "model = LogisticRegression()\n",
    "model.fit(X_train, y_train)\n",
    "\n",
    "y_pred_proba = model.predict_proba(X_test)[:, 1]\n",
    "\n",
    "# fpr : positive 예측을 잘못한 비율, 실제 음성을 잘못 예측한 비율\n",
    "# tpr : positive 예측을 맞은 비율, 실제 양성을 맞춘 비율\n",
    "# \n",
    "fpr, tpr, thresholds = roc_curve(y_test, y_pred_proba)\n",
    "auc(fpr, tpr) # 0.8684052757793765→ 0.5 는 랜덤 모델과 동일한 성능, 1 은 완벽한 모델\n",
    "\n",
    "plt.plot(fpr, tpr, color='blue', label=f'ROC Curve (AUC = {auc(fpr, tpr):.2f})')\n",
    "plt.plot([0, 1], [0, 1], color='red', linestyle='--', label='Random Model')\n",
    "plt.xlabel('FPR (False Positive Rate)')\n",
    "plt.ylabel('TPR (True Positive Rate)')\n",
    "plt.legend()\n",
    "plt.show()\n"
   ]
  },
  {
   "cell_type": "markdown",
   "id": "8d975fba",
   "metadata": {},
   "source": [
    "---"
   ]
  },
  {
   "cell_type": "markdown",
   "id": "33f2fe2c",
   "metadata": {},
   "source": [
    "### 회귀모델 평가"
   ]
  },
  {
   "cell_type": "code",
   "execution_count": 116,
   "id": "25e6835d",
   "metadata": {},
   "outputs": [],
   "source": [
    "# 샘플 데이터\n",
    "y_true = [3, 0.5, 2, 7]\n",
    "y_pred = [2.5, 0.0, 2, 9]\n",
    "\n",
    "# 손실값, 오차를 줄이는 것이 목표"
   ]
  },
  {
   "cell_type": "code",
   "execution_count": 119,
   "id": "fb6826f9",
   "metadata": {},
   "outputs": [
    {
     "name": "stdout",
     "output_type": "stream",
     "text": [
      "MSE  : 1.125\n",
      "RMSE : 1.0606601717798212\n",
      "MAE  : 0.75\n",
      "MSLE : 0.058006407800631835\n",
      "RMSLE: 0.2408451946803835\n",
      "R^2  : 0.8059299191374663\n"
     ]
    }
   ],
   "source": [
    "from sklearn.metrics import mean_squared_error             # MSE (평균 제곱 오차)\n",
    "from sklearn.metrics import root_mean_squared_error        # RMSE (제곱 평균 제곱근 오차)\n",
    "from sklearn.metrics import mean_absolute_error            # MAE (평균 절대 오차)\n",
    "from sklearn.metrics import mean_squared_log_error         # MSLE (평균 제곱 로그 오차)\n",
    "from sklearn.metrics import root_mean_squared_log_error    # RMSLE (제곱 평균 제곱근 로그 오차)\n",
    "from sklearn.metrics import r2_score                       # R^2 결정계수\n",
    "\n",
    "print(f'MSE  : {mean_squared_error(y_true, y_pred)}')\n",
    "print(f'RMSE : {root_mean_squared_error(y_true, y_pred)}')\n",
    "print(f'MAE  : {mean_absolute_error(y_true, y_pred)}')\n",
    "print(f'MSLE : {mean_squared_log_error(y_true, y_pred)}')\n",
    "print(f'RMSLE: {root_mean_squared_log_error(y_true, y_pred)}')\n",
    "print(f'R^2  : {r2_score(y_true, y_pred)}')"
   ]
  },
  {
   "cell_type": "markdown",
   "id": "6986fddb",
   "metadata": {},
   "source": [
    "| 평가모델      | 특징                    | 의미                       | 좋은 모델 기준         |\n",
    "| --------- | --------------------- | ------------------------ | ---------------- |\n",
    "| **MSE**   | 오차 제곱의 평균             | 큰 오차에 더 큰 페널티            | 값이 작을수록 좋음       |\n",
    "| **RMSE**  | MSE의 제곱근              | 해석을 실제 단위와 같게 함          | 값이 작을수록 좋음       |\n",
    "| **MAE**   | 오차 절댓값의 평균            | 모든 오차를 동일 비중으로 반영        | 값이 작을수록 좋음       |\n",
    "| **MSLE**  | 로그 변환된 예측-실제 값의 제곱 평균 | 상대적 차이를 반영, 작은 값의 오차를 중시 | 값이 작을수록 좋음       |\n",
    "| **RMSLE** | MSLE의 제곱근             | 로그 기반, 실제 단위와 해석 가능      | 값이 작을수록 좋음       |\n",
    "| **R²**    | 모델 설명력(분산 비율)         | 1에 가까울수록 예측력이 높음         | 값이 클수록 좋음 (최대 1) |\n"
   ]
  }
 ],
 "metadata": {
  "kernelspec": {
   "display_name": "ml_env",
   "language": "python",
   "name": "python3"
  },
  "language_info": {
   "codemirror_mode": {
    "name": "ipython",
    "version": 3
   },
   "file_extension": ".py",
   "mimetype": "text/x-python",
   "name": "python",
   "nbconvert_exporter": "python",
   "pygments_lexer": "ipython3",
   "version": "3.12.11"
  }
 },
 "nbformat": 4,
 "nbformat_minor": 5
}
