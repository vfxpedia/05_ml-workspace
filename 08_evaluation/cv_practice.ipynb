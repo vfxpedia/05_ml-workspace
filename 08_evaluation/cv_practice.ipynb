{
 "cells": [
  {
   "cell_type": "markdown",
   "id": "9016af6d",
   "metadata": {},
   "source": [
    "# 교차 검증 실습"
   ]
  },
  {
   "cell_type": "code",
   "execution_count": 39,
   "id": "0bc9fabf",
   "metadata": {},
   "outputs": [],
   "source": [
    "import numpy as np\n",
    "import pandas as pd\n",
    "from sklearn.preprocessing import StandardScaler\n",
    "from sklearn.linear_model import LogisticRegression\n",
    "from sklearn.model_selection import train_test_split, cross_val_score, GridSearchCV"
   ]
  },
  {
   "cell_type": "code",
   "execution_count": 7,
   "id": "9001cb89",
   "metadata": {},
   "outputs": [],
   "source": [
    "fish_df = pd.read_csv('./data/fish.csv')\n",
    "fish_input = fish_df.drop('Species', axis=1)\n",
    "fish_target = fish_df['Species']\n",
    "\n",
    "X_train, X_test, y_train, y_test = train_test_split(fish_input, fish_target, random_state=42, stratify=fish_target)\n",
    "\n",
    "scaler = StandardScaler()\n",
    "X_train_scaled = scaler.fit_transform(X_train)\n",
    "X_test_scaled = scaler.transform(X_test)\n"
   ]
  },
  {
   "cell_type": "code",
   "execution_count": 21,
   "id": "cfdb256d",
   "metadata": {},
   "outputs": [
    {
     "data": {
      "text/html": [
       "<div>\n",
       "<style scoped>\n",
       "    .dataframe tbody tr th:only-of-type {\n",
       "        vertical-align: middle;\n",
       "    }\n",
       "\n",
       "    .dataframe tbody tr th {\n",
       "        vertical-align: top;\n",
       "    }\n",
       "\n",
       "    .dataframe thead th {\n",
       "        text-align: right;\n",
       "    }\n",
       "</style>\n",
       "<table border=\"1\" class=\"dataframe\">\n",
       "  <thead>\n",
       "    <tr style=\"text-align: right;\">\n",
       "      <th></th>\n",
       "      <th>Weight</th>\n",
       "      <th>Length</th>\n",
       "      <th>Diagonal</th>\n",
       "      <th>Height</th>\n",
       "      <th>Width</th>\n",
       "    </tr>\n",
       "  </thead>\n",
       "  <tbody>\n",
       "    <tr>\n",
       "      <th>0</th>\n",
       "      <td>242.0</td>\n",
       "      <td>25.4</td>\n",
       "      <td>30.0</td>\n",
       "      <td>11.5200</td>\n",
       "      <td>4.0200</td>\n",
       "    </tr>\n",
       "    <tr>\n",
       "      <th>1</th>\n",
       "      <td>290.0</td>\n",
       "      <td>26.3</td>\n",
       "      <td>31.2</td>\n",
       "      <td>12.4800</td>\n",
       "      <td>4.3056</td>\n",
       "    </tr>\n",
       "    <tr>\n",
       "      <th>2</th>\n",
       "      <td>340.0</td>\n",
       "      <td>26.5</td>\n",
       "      <td>31.1</td>\n",
       "      <td>12.3778</td>\n",
       "      <td>4.6961</td>\n",
       "    </tr>\n",
       "    <tr>\n",
       "      <th>3</th>\n",
       "      <td>363.0</td>\n",
       "      <td>29.0</td>\n",
       "      <td>33.5</td>\n",
       "      <td>12.7300</td>\n",
       "      <td>4.4555</td>\n",
       "    </tr>\n",
       "    <tr>\n",
       "      <th>4</th>\n",
       "      <td>430.0</td>\n",
       "      <td>29.0</td>\n",
       "      <td>34.0</td>\n",
       "      <td>12.4440</td>\n",
       "      <td>5.1340</td>\n",
       "    </tr>\n",
       "    <tr>\n",
       "      <th>...</th>\n",
       "      <td>...</td>\n",
       "      <td>...</td>\n",
       "      <td>...</td>\n",
       "      <td>...</td>\n",
       "      <td>...</td>\n",
       "    </tr>\n",
       "    <tr>\n",
       "      <th>154</th>\n",
       "      <td>12.2</td>\n",
       "      <td>12.2</td>\n",
       "      <td>13.4</td>\n",
       "      <td>2.0904</td>\n",
       "      <td>1.3936</td>\n",
       "    </tr>\n",
       "    <tr>\n",
       "      <th>155</th>\n",
       "      <td>13.4</td>\n",
       "      <td>12.4</td>\n",
       "      <td>13.5</td>\n",
       "      <td>2.4300</td>\n",
       "      <td>1.2690</td>\n",
       "    </tr>\n",
       "    <tr>\n",
       "      <th>156</th>\n",
       "      <td>12.2</td>\n",
       "      <td>13.0</td>\n",
       "      <td>13.8</td>\n",
       "      <td>2.2770</td>\n",
       "      <td>1.2558</td>\n",
       "    </tr>\n",
       "    <tr>\n",
       "      <th>157</th>\n",
       "      <td>19.7</td>\n",
       "      <td>14.3</td>\n",
       "      <td>15.2</td>\n",
       "      <td>2.8728</td>\n",
       "      <td>2.0672</td>\n",
       "    </tr>\n",
       "    <tr>\n",
       "      <th>158</th>\n",
       "      <td>19.9</td>\n",
       "      <td>15.0</td>\n",
       "      <td>16.2</td>\n",
       "      <td>2.9322</td>\n",
       "      <td>1.8792</td>\n",
       "    </tr>\n",
       "  </tbody>\n",
       "</table>\n",
       "<p>159 rows × 5 columns</p>\n",
       "</div>"
      ],
      "text/plain": [
       "     Weight  Length  Diagonal   Height   Width\n",
       "0     242.0    25.4      30.0  11.5200  4.0200\n",
       "1     290.0    26.3      31.2  12.4800  4.3056\n",
       "2     340.0    26.5      31.1  12.3778  4.6961\n",
       "3     363.0    29.0      33.5  12.7300  4.4555\n",
       "4     430.0    29.0      34.0  12.4440  5.1340\n",
       "..      ...     ...       ...      ...     ...\n",
       "154    12.2    12.2      13.4   2.0904  1.3936\n",
       "155    13.4    12.4      13.5   2.4300  1.2690\n",
       "156    12.2    13.0      13.8   2.2770  1.2558\n",
       "157    19.7    14.3      15.2   2.8728  2.0672\n",
       "158    19.9    15.0      16.2   2.9322  1.8792\n",
       "\n",
       "[159 rows x 5 columns]"
      ]
     },
     "execution_count": 21,
     "metadata": {},
     "output_type": "execute_result"
    }
   ],
   "source": [
    "fish_input"
   ]
  },
  {
   "cell_type": "markdown",
   "id": "5a8e2ef3",
   "metadata": {},
   "source": [
    "### 생선 다중 분류 with cross_val_score"
   ]
  },
  {
   "cell_type": "code",
   "execution_count": 36,
   "id": "99f1a71a",
   "metadata": {},
   "outputs": [
    {
     "name": "stdout",
     "output_type": "stream",
     "text": [
      "교차검증 점수 score :  [0.875      0.83333333 0.83333333 0.79166667 0.73913043]\n",
      "np.mean(scores)    :  0.8144927536231885\n",
      "테스트 정확도       :  0.825\n"
     ]
    }
   ],
   "source": [
    "from sklearn.model_selection import cross_val_score\n",
    "\n",
    "# 모델 생성\n",
    "lr_clf = LogisticRegression(max_iter=1000, solver='newton-cg') # solver 파라미터 'newton-cg' 사용 → 최적화 알고리즘 선택 → 학습 시간 빠름\n",
    "\n",
    "# 교차검증 점수\n",
    "scores = cross_val_score(lr_clf, X_train_scaled, y_train, scoring='accuracy', cv=5)\n",
    "print('교차검증 점수 score : ', scores)\n",
    "print('np.mean(scores)    : ', np.mean(scores))\n",
    "\n",
    "# 학습/예측/결과 평가\n",
    "lr_clf.fit(X_train_scaled, y_train)\n",
    "y_pred = lr_clf.predict(X_test_scaled)\n",
    "\n",
    "# 예측 결과 평가\n",
    "from sklearn.metrics import accuracy_score\n",
    "\n",
    "acc_score = accuracy_score(y_test, y_pred)\n",
    "\n",
    "print('테스트 정확도       : ', acc_score)\n"
   ]
  },
  {
   "cell_type": "code",
   "execution_count": 40,
   "id": "0d798b56",
   "metadata": {},
   "outputs": [],
   "source": [
    "import warnings\n",
    "warnings.filterwarnings('ignore')\n"
   ]
  },
  {
   "cell_type": "markdown",
   "id": "54f15909",
   "metadata": {},
   "source": [
    "### 생선 다중 분류 with GridSearchCV"
   ]
  },
  {
   "cell_type": "code",
   "execution_count": 47,
   "id": "336ae1c1",
   "metadata": {},
   "outputs": [
    {
     "name": "stdout",
     "output_type": "stream",
     "text": [
      "최적의 모델     :  LogisticRegression(C=100, solver='liblinear')\n",
      "최적의 파라미터 :  {'C': 100, 'max_iter': 100, 'penalty': 'l2', 'solver': 'liblinear'}\n",
      "최적의 점수     :  0.9152173913043479\n",
      "학습 정확도     :  0.8151260504201681\n",
      "테스트 정확도   :  0.825\n",
      "최적 모델 정확도 :  0.975\n"
     ]
    }
   ],
   "source": [
    "# GridSearchCV 사용 → 최적의 파라미터, 평가 점수, 모델 확인\n",
    "\n",
    "from sqlite3 import paramstyle\n",
    "from sklearn.model_selection import GridSearchCV, StratifiedKFold\n",
    "\n",
    "lr_clf = LogisticRegression()\n",
    "\n",
    "# 탐색할 파라미터 값 지정\n",
    "params = {\n",
    "    'penalty': ['l2', 'none'],\n",
    "    'C': [0.01, 0.1, 1, 10, 100],\n",
    "    'max_iter': [100, 200, 300, 400, 500],\n",
    "    'solver': ['newton-cg', 'lbfgs', 'liblinear', 'sag', 'saga']\n",
    "}\n",
    "\n",
    "stratifiedkfold = StratifiedKFold(n_splits=5, shuffle=True, random_state=42)\n",
    "\n",
    "# GridSearchCV 객체 생성\n",
    "grid_search = GridSearchCV(lr_clf, params, cv=stratifiedkfold)\n",
    "grid_search.fit(X_train_scaled, y_train)\n",
    "\n",
    "# 학습\n",
    "lr_clf.fit(X_train_scaled, y_train)\n",
    "\n",
    "# 최적의 파라미터 확인\n",
    "print('최적의 모델     : ', grid_search.best_estimator_)\n",
    "print('최적의 파라미터 : ', grid_search.best_params_)\n",
    "print('최적의 점수     : ', grid_search.best_score_)\n",
    "\n",
    "\n",
    "# 예측 결과 평가\n",
    "y_train_pred = lr_clf.predict(X_train_scaled)\n",
    "y_test_pred = lr_clf.predict(X_test_scaled)\n",
    "\n",
    "from sklearn.metrics import accuracy_score\n",
    "\n",
    "train_score = accuracy_score(y_train, y_train_pred)\n",
    "test_score = accuracy_score(y_test, y_test_pred)\n",
    "\n",
    "print('학습 정확도     : ', train_score)\n",
    "print('테스트 정확도   : ', test_score)\n",
    "\n",
    "# 실제 베스트 모델 적용\n",
    "best_model = grid_search.best_estimator_\n",
    "best_model.fit(X_train_scaled, y_train)\n",
    "print('최적 모델 정확도 : ', best_model.score(X_test_scaled, y_test))\n",
    "\n",
    "\n"
   ]
  }
 ],
 "metadata": {
  "kernelspec": {
   "display_name": "ml_env",
   "language": "python",
   "name": "python3"
  },
  "language_info": {
   "codemirror_mode": {
    "name": "ipython",
    "version": 3
   },
   "file_extension": ".py",
   "mimetype": "text/x-python",
   "name": "python",
   "nbconvert_exporter": "python",
   "pygments_lexer": "ipython3",
   "version": "3.12.11"
  }
 },
 "nbformat": 4,
 "nbformat_minor": 5
}
